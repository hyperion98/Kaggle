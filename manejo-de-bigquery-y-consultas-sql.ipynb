{
 "cells": [
  {
   "cell_type": "markdown",
   "id": "9336c513",
   "metadata": {
    "papermill": {
     "duration": 0.00353,
     "end_time": "2022-10-05T17:49:55.753758",
     "exception": false,
     "start_time": "2022-10-05T17:49:55.750228",
     "status": "completed"
    },
    "tags": []
   },
   "source": [
    "Se importan las librerías para obtener información de BigQuery"
   ]
  },
  {
   "cell_type": "code",
   "execution_count": 1,
   "id": "fc6c7b57",
   "metadata": {
    "execution": {
     "iopub.execute_input": "2022-10-05T17:49:55.761707Z",
     "iopub.status.busy": "2022-10-05T17:49:55.760873Z",
     "iopub.status.idle": "2022-10-05T17:49:57.285870Z",
     "shell.execute_reply": "2022-10-05T17:49:57.284284Z"
    },
    "papermill": {
     "duration": 1.531991,
     "end_time": "2022-10-05T17:49:57.288796",
     "exception": false,
     "start_time": "2022-10-05T17:49:55.756805",
     "status": "completed"
    },
    "tags": []
   },
   "outputs": [
    {
     "name": "stdout",
     "output_type": "stream",
     "text": [
      "Using Kaggle's public dataset BigQuery integration.\n"
     ]
    }
   ],
   "source": [
    "from google.cloud import bigquery\n",
    "import seaborn as sns\n",
    "import pandas\n",
    "\n",
    "# objeto Client\n",
    "client = bigquery.Client()\n",
    "\n",
    "# Referencia al Dataset chicago_crime\n",
    "dataset_ref = client.dataset(\"chicago_crime\", project=\"bigquery-public-data\")\n",
    "\n",
    "# API request - traer el dataset\n",
    "dataset = client.get_dataset(dataset_ref)"
   ]
  },
  {
   "cell_type": "markdown",
   "id": "2fa6311c",
   "metadata": {
    "papermill": {
     "duration": 0.003636,
     "end_time": "2022-10-05T17:49:57.295842",
     "exception": false,
     "start_time": "2022-10-05T17:49:57.292206",
     "status": "completed"
    },
    "tags": []
   },
   "source": [
    "Listamos las tablas en el dataset"
   ]
  },
  {
   "cell_type": "code",
   "execution_count": 2,
   "id": "b54a1271",
   "metadata": {
    "execution": {
     "iopub.execute_input": "2022-10-05T17:49:57.305182Z",
     "iopub.status.busy": "2022-10-05T17:49:57.303491Z",
     "iopub.status.idle": "2022-10-05T17:49:57.613935Z",
     "shell.execute_reply": "2022-10-05T17:49:57.613177Z"
    },
    "papermill": {
     "duration": 0.317116,
     "end_time": "2022-10-05T17:49:57.616314",
     "exception": false,
     "start_time": "2022-10-05T17:49:57.299198",
     "status": "completed"
    },
    "tags": []
   },
   "outputs": [
    {
     "name": "stdout",
     "output_type": "stream",
     "text": [
      "crime\n"
     ]
    }
   ],
   "source": [
    "tables = list(client.list_tables(dataset))\n",
    "for table in tables:  \n",
    "    print(table.table_id)"
   ]
  },
  {
   "cell_type": "markdown",
   "id": "3e32b9c1",
   "metadata": {
    "papermill": {
     "duration": 0.002748,
     "end_time": "2022-10-05T17:49:57.623019",
     "exception": false,
     "start_time": "2022-10-05T17:49:57.620271",
     "status": "completed"
    },
    "tags": []
   },
   "source": [
    "Listamos las columnas en la tabla Crime"
   ]
  },
  {
   "cell_type": "code",
   "execution_count": 3,
   "id": "2e52184c",
   "metadata": {
    "execution": {
     "iopub.execute_input": "2022-10-05T17:49:57.631239Z",
     "iopub.status.busy": "2022-10-05T17:49:57.630539Z",
     "iopub.status.idle": "2022-10-05T17:49:58.013341Z",
     "shell.execute_reply": "2022-10-05T17:49:58.011487Z"
    },
    "papermill": {
     "duration": 0.389901,
     "end_time": "2022-10-05T17:49:58.015911",
     "exception": false,
     "start_time": "2022-10-05T17:49:57.626010",
     "status": "completed"
    },
    "tags": []
   },
   "outputs": [
    {
     "data": {
      "text/plain": [
       "[SchemaField('unique_key', 'INTEGER', 'REQUIRED', None, (), None),\n",
       " SchemaField('case_number', 'STRING', 'NULLABLE', None, (), None),\n",
       " SchemaField('date', 'TIMESTAMP', 'NULLABLE', None, (), None),\n",
       " SchemaField('block', 'STRING', 'NULLABLE', None, (), None),\n",
       " SchemaField('iucr', 'STRING', 'NULLABLE', None, (), None),\n",
       " SchemaField('primary_type', 'STRING', 'NULLABLE', None, (), None),\n",
       " SchemaField('description', 'STRING', 'NULLABLE', None, (), None),\n",
       " SchemaField('location_description', 'STRING', 'NULLABLE', None, (), None),\n",
       " SchemaField('arrest', 'BOOLEAN', 'NULLABLE', None, (), None),\n",
       " SchemaField('domestic', 'BOOLEAN', 'NULLABLE', None, (), None),\n",
       " SchemaField('beat', 'INTEGER', 'NULLABLE', None, (), None),\n",
       " SchemaField('district', 'INTEGER', 'NULLABLE', None, (), None),\n",
       " SchemaField('ward', 'INTEGER', 'NULLABLE', None, (), None),\n",
       " SchemaField('community_area', 'INTEGER', 'NULLABLE', None, (), None),\n",
       " SchemaField('fbi_code', 'STRING', 'NULLABLE', None, (), None),\n",
       " SchemaField('x_coordinate', 'FLOAT', 'NULLABLE', None, (), None),\n",
       " SchemaField('y_coordinate', 'FLOAT', 'NULLABLE', None, (), None),\n",
       " SchemaField('year', 'INTEGER', 'NULLABLE', None, (), None),\n",
       " SchemaField('updated_on', 'TIMESTAMP', 'NULLABLE', None, (), None),\n",
       " SchemaField('latitude', 'FLOAT', 'NULLABLE', None, (), None),\n",
       " SchemaField('longitude', 'FLOAT', 'NULLABLE', None, (), None),\n",
       " SchemaField('location', 'STRING', 'NULLABLE', None, (), None)]"
      ]
     },
     "execution_count": 3,
     "metadata": {},
     "output_type": "execute_result"
    }
   ],
   "source": [
    "# Construct a reference to the \"full\" table\n",
    "table_ref = dataset_ref.table(\"crime\")\n",
    "\n",
    "# API request - fetch the table\n",
    "table = client.get_table(table_ref)\n",
    "table.schema"
   ]
  },
  {
   "cell_type": "code",
   "execution_count": 4,
   "id": "adbd84a9",
   "metadata": {
    "execution": {
     "iopub.execute_input": "2022-10-05T17:49:58.024298Z",
     "iopub.status.busy": "2022-10-05T17:49:58.023952Z",
     "iopub.status.idle": "2022-10-05T17:49:58.595311Z",
     "shell.execute_reply": "2022-10-05T17:49:58.594720Z"
    },
    "papermill": {
     "duration": 0.577652,
     "end_time": "2022-10-05T17:49:58.596874",
     "exception": false,
     "start_time": "2022-10-05T17:49:58.019222",
     "status": "completed"
    },
    "tags": []
   },
   "outputs": [
    {
     "name": "stderr",
     "output_type": "stream",
     "text": [
      "/opt/conda/lib/python3.7/site-packages/ipykernel_launcher.py:1: UserWarning: Cannot use bqstorage_client if max_results is set, reverting to fetching data with the tabledata.list endpoint.\n",
      "  \"\"\"Entry point for launching an IPython kernel.\n"
     ]
    },
    {
     "data": {
      "text/html": [
       "<div>\n",
       "<style scoped>\n",
       "    .dataframe tbody tr th:only-of-type {\n",
       "        vertical-align: middle;\n",
       "    }\n",
       "\n",
       "    .dataframe tbody tr th {\n",
       "        vertical-align: top;\n",
       "    }\n",
       "\n",
       "    .dataframe thead th {\n",
       "        text-align: right;\n",
       "    }\n",
       "</style>\n",
       "<table border=\"1\" class=\"dataframe\">\n",
       "  <thead>\n",
       "    <tr style=\"text-align: right;\">\n",
       "      <th></th>\n",
       "      <th>unique_key</th>\n",
       "      <th>case_number</th>\n",
       "      <th>date</th>\n",
       "      <th>block</th>\n",
       "      <th>iucr</th>\n",
       "      <th>primary_type</th>\n",
       "      <th>description</th>\n",
       "      <th>location_description</th>\n",
       "      <th>arrest</th>\n",
       "      <th>domestic</th>\n",
       "      <th>...</th>\n",
       "      <th>ward</th>\n",
       "      <th>community_area</th>\n",
       "      <th>fbi_code</th>\n",
       "      <th>x_coordinate</th>\n",
       "      <th>y_coordinate</th>\n",
       "      <th>year</th>\n",
       "      <th>updated_on</th>\n",
       "      <th>latitude</th>\n",
       "      <th>longitude</th>\n",
       "      <th>location</th>\n",
       "    </tr>\n",
       "  </thead>\n",
       "  <tbody>\n",
       "    <tr>\n",
       "      <th>0</th>\n",
       "      <td>25850</td>\n",
       "      <td>JE190772</td>\n",
       "      <td>2021-04-06 01:55:00+00:00</td>\n",
       "      <td>105XX S MARYLAND AVE</td>\n",
       "      <td>0110</td>\n",
       "      <td>HOMICIDE</td>\n",
       "      <td>FIRST DEGREE MURDER</td>\n",
       "      <td>STREET</td>\n",
       "      <td>False</td>\n",
       "      <td>False</td>\n",
       "      <td>...</td>\n",
       "      <td>9.0</td>\n",
       "      <td>50.0</td>\n",
       "      <td>01A</td>\n",
       "      <td>1183774.0</td>\n",
       "      <td>1835238.0</td>\n",
       "      <td>2021</td>\n",
       "      <td>2022-08-31 04:51:30+00:00</td>\n",
       "      <td>41.703073</td>\n",
       "      <td>-87.602673</td>\n",
       "      <td>(41.703073446, -87.602673084)</td>\n",
       "    </tr>\n",
       "    <tr>\n",
       "      <th>1</th>\n",
       "      <td>24071</td>\n",
       "      <td>JB359746</td>\n",
       "      <td>2018-07-21 11:31:00+00:00</td>\n",
       "      <td>002XX W 106TH ST</td>\n",
       "      <td>0110</td>\n",
       "      <td>HOMICIDE</td>\n",
       "      <td>FIRST DEGREE MURDER</td>\n",
       "      <td>STREET</td>\n",
       "      <td>False</td>\n",
       "      <td>False</td>\n",
       "      <td>...</td>\n",
       "      <td>34.0</td>\n",
       "      <td>49.0</td>\n",
       "      <td>01A</td>\n",
       "      <td>1176557.0</td>\n",
       "      <td>1834650.0</td>\n",
       "      <td>2018</td>\n",
       "      <td>2022-09-18 04:45:51+00:00</td>\n",
       "      <td>41.701625</td>\n",
       "      <td>-87.629118</td>\n",
       "      <td>(41.701624878, -87.629117507)</td>\n",
       "    </tr>\n",
       "    <tr>\n",
       "      <th>2</th>\n",
       "      <td>3351</td>\n",
       "      <td>HL619154</td>\n",
       "      <td>2005-09-18 01:13:00+00:00</td>\n",
       "      <td>103XX S WENTWORTH AVE</td>\n",
       "      <td>0110</td>\n",
       "      <td>HOMICIDE</td>\n",
       "      <td>FIRST DEGREE MURDER</td>\n",
       "      <td>STREET</td>\n",
       "      <td>True</td>\n",
       "      <td>False</td>\n",
       "      <td>...</td>\n",
       "      <td>34.0</td>\n",
       "      <td>49.0</td>\n",
       "      <td>01A</td>\n",
       "      <td>1176784.0</td>\n",
       "      <td>1836170.0</td>\n",
       "      <td>2005</td>\n",
       "      <td>2022-08-31 04:51:30+00:00</td>\n",
       "      <td>41.705791</td>\n",
       "      <td>-87.628241</td>\n",
       "      <td>(41.705790877, -87.628240739)</td>\n",
       "    </tr>\n",
       "    <tr>\n",
       "      <th>3</th>\n",
       "      <td>23029</td>\n",
       "      <td>HZ554936</td>\n",
       "      <td>2016-12-17 01:25:00+00:00</td>\n",
       "      <td>001XX W 105TH ST</td>\n",
       "      <td>0110</td>\n",
       "      <td>HOMICIDE</td>\n",
       "      <td>FIRST DEGREE MURDER</td>\n",
       "      <td>HOUSE</td>\n",
       "      <td>True</td>\n",
       "      <td>False</td>\n",
       "      <td>...</td>\n",
       "      <td>34.0</td>\n",
       "      <td>49.0</td>\n",
       "      <td>01A</td>\n",
       "      <td>1177249.0</td>\n",
       "      <td>1835331.0</td>\n",
       "      <td>2016</td>\n",
       "      <td>2022-09-18 04:45:51+00:00</td>\n",
       "      <td>41.703478</td>\n",
       "      <td>-87.626563</td>\n",
       "      <td>(41.703478083, -87.626563168)</td>\n",
       "    </tr>\n",
       "    <tr>\n",
       "      <th>4</th>\n",
       "      <td>1618</td>\n",
       "      <td>HH510318</td>\n",
       "      <td>2002-07-15 05:00:00+00:00</td>\n",
       "      <td>106XX S LASALLE ST</td>\n",
       "      <td>0110</td>\n",
       "      <td>HOMICIDE</td>\n",
       "      <td>FIRST DEGREE MURDER</td>\n",
       "      <td>STREET</td>\n",
       "      <td>False</td>\n",
       "      <td>False</td>\n",
       "      <td>...</td>\n",
       "      <td>NaN</td>\n",
       "      <td>NaN</td>\n",
       "      <td>01A</td>\n",
       "      <td>1177156.0</td>\n",
       "      <td>1834531.0</td>\n",
       "      <td>2002</td>\n",
       "      <td>2022-08-31 04:51:30+00:00</td>\n",
       "      <td>41.701285</td>\n",
       "      <td>-87.626928</td>\n",
       "      <td>(41.701284863, -87.626927742)</td>\n",
       "    </tr>\n",
       "  </tbody>\n",
       "</table>\n",
       "<p>5 rows × 22 columns</p>\n",
       "</div>"
      ],
      "text/plain": [
       "   unique_key case_number                      date                  block  \\\n",
       "0       25850    JE190772 2021-04-06 01:55:00+00:00   105XX S MARYLAND AVE   \n",
       "1       24071    JB359746 2018-07-21 11:31:00+00:00       002XX W 106TH ST   \n",
       "2        3351    HL619154 2005-09-18 01:13:00+00:00  103XX S WENTWORTH AVE   \n",
       "3       23029    HZ554936 2016-12-17 01:25:00+00:00       001XX W 105TH ST   \n",
       "4        1618    HH510318 2002-07-15 05:00:00+00:00     106XX S LASALLE ST   \n",
       "\n",
       "   iucr primary_type          description location_description  arrest  \\\n",
       "0  0110     HOMICIDE  FIRST DEGREE MURDER               STREET   False   \n",
       "1  0110     HOMICIDE  FIRST DEGREE MURDER               STREET   False   \n",
       "2  0110     HOMICIDE  FIRST DEGREE MURDER               STREET    True   \n",
       "3  0110     HOMICIDE  FIRST DEGREE MURDER                HOUSE    True   \n",
       "4  0110     HOMICIDE  FIRST DEGREE MURDER               STREET   False   \n",
       "\n",
       "   domestic  ...  ward  community_area  fbi_code  x_coordinate y_coordinate  \\\n",
       "0     False  ...   9.0            50.0       01A     1183774.0    1835238.0   \n",
       "1     False  ...  34.0            49.0       01A     1176557.0    1834650.0   \n",
       "2     False  ...  34.0            49.0       01A     1176784.0    1836170.0   \n",
       "3     False  ...  34.0            49.0       01A     1177249.0    1835331.0   \n",
       "4     False  ...   NaN             NaN       01A     1177156.0    1834531.0   \n",
       "\n",
       "   year                updated_on   latitude  longitude  \\\n",
       "0  2021 2022-08-31 04:51:30+00:00  41.703073 -87.602673   \n",
       "1  2018 2022-09-18 04:45:51+00:00  41.701625 -87.629118   \n",
       "2  2005 2022-08-31 04:51:30+00:00  41.705791 -87.628241   \n",
       "3  2016 2022-09-18 04:45:51+00:00  41.703478 -87.626563   \n",
       "4  2002 2022-08-31 04:51:30+00:00  41.701285 -87.626928   \n",
       "\n",
       "                        location  \n",
       "0  (41.703073446, -87.602673084)  \n",
       "1  (41.701624878, -87.629117507)  \n",
       "2  (41.705790877, -87.628240739)  \n",
       "3  (41.703478083, -87.626563168)  \n",
       "4  (41.701284863, -87.626927742)  \n",
       "\n",
       "[5 rows x 22 columns]"
      ]
     },
     "execution_count": 4,
     "metadata": {},
     "output_type": "execute_result"
    }
   ],
   "source": [
    "client.list_rows(table, max_results=5).to_dataframe()"
   ]
  },
  {
   "cell_type": "markdown",
   "id": "3f7e8764",
   "metadata": {
    "papermill": {
     "duration": 0.003352,
     "end_time": "2022-10-05T17:49:58.603538",
     "exception": false,
     "start_time": "2022-10-05T17:49:58.600186",
     "status": "completed"
    },
    "tags": []
   },
   "source": [
    "Podemos acceder a distintas columnas por número de col"
   ]
  },
  {
   "cell_type": "code",
   "execution_count": 5,
   "id": "810bba91",
   "metadata": {
    "execution": {
     "iopub.execute_input": "2022-10-05T17:49:58.612243Z",
     "iopub.status.busy": "2022-10-05T17:49:58.610949Z",
     "iopub.status.idle": "2022-10-05T17:49:59.064185Z",
     "shell.execute_reply": "2022-10-05T17:49:59.062734Z"
    },
    "papermill": {
     "duration": 0.459897,
     "end_time": "2022-10-05T17:49:59.066504",
     "exception": false,
     "start_time": "2022-10-05T17:49:58.606607",
     "status": "completed"
    },
    "tags": []
   },
   "outputs": [
    {
     "name": "stderr",
     "output_type": "stream",
     "text": [
      "/opt/conda/lib/python3.7/site-packages/ipykernel_launcher.py:1: UserWarning: Cannot use bqstorage_client if max_results is set, reverting to fetching data with the tabledata.list endpoint.\n",
      "  \"\"\"Entry point for launching an IPython kernel.\n"
     ]
    },
    {
     "data": {
      "text/html": [
       "<div>\n",
       "<style scoped>\n",
       "    .dataframe tbody tr th:only-of-type {\n",
       "        vertical-align: middle;\n",
       "    }\n",
       "\n",
       "    .dataframe tbody tr th {\n",
       "        vertical-align: top;\n",
       "    }\n",
       "\n",
       "    .dataframe thead th {\n",
       "        text-align: right;\n",
       "    }\n",
       "</style>\n",
       "<table border=\"1\" class=\"dataframe\">\n",
       "  <thead>\n",
       "    <tr style=\"text-align: right;\">\n",
       "      <th></th>\n",
       "      <th>unique_key</th>\n",
       "      <th>case_number</th>\n",
       "      <th>date</th>\n",
       "      <th>block</th>\n",
       "      <th>iucr</th>\n",
       "      <th>primary_type</th>\n",
       "      <th>description</th>\n",
       "      <th>location_description</th>\n",
       "      <th>arrest</th>\n",
       "      <th>domestic</th>\n",
       "      <th>...</th>\n",
       "      <th>ward</th>\n",
       "      <th>community_area</th>\n",
       "      <th>fbi_code</th>\n",
       "      <th>x_coordinate</th>\n",
       "      <th>y_coordinate</th>\n",
       "      <th>year</th>\n",
       "      <th>updated_on</th>\n",
       "      <th>latitude</th>\n",
       "      <th>longitude</th>\n",
       "      <th>location</th>\n",
       "    </tr>\n",
       "  </thead>\n",
       "  <tbody>\n",
       "    <tr>\n",
       "      <th>0</th>\n",
       "      <td>25850</td>\n",
       "      <td>JE190772</td>\n",
       "      <td>2021-04-06 01:55:00+00:00</td>\n",
       "      <td>105XX S MARYLAND AVE</td>\n",
       "      <td>0110</td>\n",
       "      <td>HOMICIDE</td>\n",
       "      <td>FIRST DEGREE MURDER</td>\n",
       "      <td>STREET</td>\n",
       "      <td>False</td>\n",
       "      <td>False</td>\n",
       "      <td>...</td>\n",
       "      <td>9.0</td>\n",
       "      <td>50.0</td>\n",
       "      <td>01A</td>\n",
       "      <td>1183774.0</td>\n",
       "      <td>1835238.0</td>\n",
       "      <td>2021</td>\n",
       "      <td>2022-08-31 04:51:30+00:00</td>\n",
       "      <td>41.703073</td>\n",
       "      <td>-87.602673</td>\n",
       "      <td>(41.703073446, -87.602673084)</td>\n",
       "    </tr>\n",
       "    <tr>\n",
       "      <th>1</th>\n",
       "      <td>24071</td>\n",
       "      <td>JB359746</td>\n",
       "      <td>2018-07-21 11:31:00+00:00</td>\n",
       "      <td>002XX W 106TH ST</td>\n",
       "      <td>0110</td>\n",
       "      <td>HOMICIDE</td>\n",
       "      <td>FIRST DEGREE MURDER</td>\n",
       "      <td>STREET</td>\n",
       "      <td>False</td>\n",
       "      <td>False</td>\n",
       "      <td>...</td>\n",
       "      <td>34.0</td>\n",
       "      <td>49.0</td>\n",
       "      <td>01A</td>\n",
       "      <td>1176557.0</td>\n",
       "      <td>1834650.0</td>\n",
       "      <td>2018</td>\n",
       "      <td>2022-09-18 04:45:51+00:00</td>\n",
       "      <td>41.701625</td>\n",
       "      <td>-87.629118</td>\n",
       "      <td>(41.701624878, -87.629117507)</td>\n",
       "    </tr>\n",
       "    <tr>\n",
       "      <th>2</th>\n",
       "      <td>3351</td>\n",
       "      <td>HL619154</td>\n",
       "      <td>2005-09-18 01:13:00+00:00</td>\n",
       "      <td>103XX S WENTWORTH AVE</td>\n",
       "      <td>0110</td>\n",
       "      <td>HOMICIDE</td>\n",
       "      <td>FIRST DEGREE MURDER</td>\n",
       "      <td>STREET</td>\n",
       "      <td>True</td>\n",
       "      <td>False</td>\n",
       "      <td>...</td>\n",
       "      <td>34.0</td>\n",
       "      <td>49.0</td>\n",
       "      <td>01A</td>\n",
       "      <td>1176784.0</td>\n",
       "      <td>1836170.0</td>\n",
       "      <td>2005</td>\n",
       "      <td>2022-08-31 04:51:30+00:00</td>\n",
       "      <td>41.705791</td>\n",
       "      <td>-87.628241</td>\n",
       "      <td>(41.705790877, -87.628240739)</td>\n",
       "    </tr>\n",
       "    <tr>\n",
       "      <th>3</th>\n",
       "      <td>23029</td>\n",
       "      <td>HZ554936</td>\n",
       "      <td>2016-12-17 01:25:00+00:00</td>\n",
       "      <td>001XX W 105TH ST</td>\n",
       "      <td>0110</td>\n",
       "      <td>HOMICIDE</td>\n",
       "      <td>FIRST DEGREE MURDER</td>\n",
       "      <td>HOUSE</td>\n",
       "      <td>True</td>\n",
       "      <td>False</td>\n",
       "      <td>...</td>\n",
       "      <td>34.0</td>\n",
       "      <td>49.0</td>\n",
       "      <td>01A</td>\n",
       "      <td>1177249.0</td>\n",
       "      <td>1835331.0</td>\n",
       "      <td>2016</td>\n",
       "      <td>2022-09-18 04:45:51+00:00</td>\n",
       "      <td>41.703478</td>\n",
       "      <td>-87.626563</td>\n",
       "      <td>(41.703478083, -87.626563168)</td>\n",
       "    </tr>\n",
       "    <tr>\n",
       "      <th>4</th>\n",
       "      <td>1618</td>\n",
       "      <td>HH510318</td>\n",
       "      <td>2002-07-15 05:00:00+00:00</td>\n",
       "      <td>106XX S LASALLE ST</td>\n",
       "      <td>0110</td>\n",
       "      <td>HOMICIDE</td>\n",
       "      <td>FIRST DEGREE MURDER</td>\n",
       "      <td>STREET</td>\n",
       "      <td>False</td>\n",
       "      <td>False</td>\n",
       "      <td>...</td>\n",
       "      <td>NaN</td>\n",
       "      <td>NaN</td>\n",
       "      <td>01A</td>\n",
       "      <td>1177156.0</td>\n",
       "      <td>1834531.0</td>\n",
       "      <td>2002</td>\n",
       "      <td>2022-08-31 04:51:30+00:00</td>\n",
       "      <td>41.701285</td>\n",
       "      <td>-87.626928</td>\n",
       "      <td>(41.701284863, -87.626927742)</td>\n",
       "    </tr>\n",
       "  </tbody>\n",
       "</table>\n",
       "<p>5 rows × 22 columns</p>\n",
       "</div>"
      ],
      "text/plain": [
       "   unique_key case_number                      date                  block  \\\n",
       "0       25850    JE190772 2021-04-06 01:55:00+00:00   105XX S MARYLAND AVE   \n",
       "1       24071    JB359746 2018-07-21 11:31:00+00:00       002XX W 106TH ST   \n",
       "2        3351    HL619154 2005-09-18 01:13:00+00:00  103XX S WENTWORTH AVE   \n",
       "3       23029    HZ554936 2016-12-17 01:25:00+00:00       001XX W 105TH ST   \n",
       "4        1618    HH510318 2002-07-15 05:00:00+00:00     106XX S LASALLE ST   \n",
       "\n",
       "   iucr primary_type          description location_description  arrest  \\\n",
       "0  0110     HOMICIDE  FIRST DEGREE MURDER               STREET   False   \n",
       "1  0110     HOMICIDE  FIRST DEGREE MURDER               STREET   False   \n",
       "2  0110     HOMICIDE  FIRST DEGREE MURDER               STREET    True   \n",
       "3  0110     HOMICIDE  FIRST DEGREE MURDER                HOUSE    True   \n",
       "4  0110     HOMICIDE  FIRST DEGREE MURDER               STREET   False   \n",
       "\n",
       "   domestic  ...  ward  community_area  fbi_code  x_coordinate y_coordinate  \\\n",
       "0     False  ...   9.0            50.0       01A     1183774.0    1835238.0   \n",
       "1     False  ...  34.0            49.0       01A     1176557.0    1834650.0   \n",
       "2     False  ...  34.0            49.0       01A     1176784.0    1836170.0   \n",
       "3     False  ...  34.0            49.0       01A     1177249.0    1835331.0   \n",
       "4     False  ...   NaN             NaN       01A     1177156.0    1834531.0   \n",
       "\n",
       "   year                updated_on   latitude  longitude  \\\n",
       "0  2021 2022-08-31 04:51:30+00:00  41.703073 -87.602673   \n",
       "1  2018 2022-09-18 04:45:51+00:00  41.701625 -87.629118   \n",
       "2  2005 2022-08-31 04:51:30+00:00  41.705791 -87.628241   \n",
       "3  2016 2022-09-18 04:45:51+00:00  41.703478 -87.626563   \n",
       "4  2002 2022-08-31 04:51:30+00:00  41.701285 -87.626928   \n",
       "\n",
       "                        location  \n",
       "0  (41.703073446, -87.602673084)  \n",
       "1  (41.701624878, -87.629117507)  \n",
       "2  (41.705790877, -87.628240739)  \n",
       "3  (41.703478083, -87.626563168)  \n",
       "4  (41.701284863, -87.626927742)  \n",
       "\n",
       "[5 rows x 22 columns]"
      ]
     },
     "execution_count": 5,
     "metadata": {},
     "output_type": "execute_result"
    }
   ],
   "source": [
    "client.list_rows(table, selected_fields=table.schema[:22], max_results=5).to_dataframe()"
   ]
  },
  {
   "cell_type": "code",
   "execution_count": 6,
   "id": "d705b037",
   "metadata": {
    "execution": {
     "iopub.execute_input": "2022-10-05T17:49:59.075731Z",
     "iopub.status.busy": "2022-10-05T17:49:59.075431Z",
     "iopub.status.idle": "2022-10-05T17:54:31.242054Z",
     "shell.execute_reply": "2022-10-05T17:54:31.241089Z"
    },
    "papermill": {
     "duration": 272.176408,
     "end_time": "2022-10-05T17:54:31.246884",
     "exception": false,
     "start_time": "2022-10-05T17:49:59.070476",
     "status": "completed"
    },
    "tags": []
   },
   "outputs": [
    {
     "name": "stdout",
     "output_type": "stream",
     "text": [
      "This query will process 299481596 bytes.\n"
     ]
    },
    {
     "name": "stderr",
     "output_type": "stream",
     "text": [
      "/opt/conda/lib/python3.7/site-packages/google/cloud/bigquery/client.py:440: UserWarning: Cannot create BigQuery Storage client, the dependency google-cloud-bigquery-storage is not installed.\n",
      "  \"Cannot create BigQuery Storage client, the dependency \"\n"
     ]
    },
    {
     "data": {
      "text/html": [
       "<div>\n",
       "<style scoped>\n",
       "    .dataframe tbody tr th:only-of-type {\n",
       "        vertical-align: middle;\n",
       "    }\n",
       "\n",
       "    .dataframe tbody tr th {\n",
       "        vertical-align: top;\n",
       "    }\n",
       "\n",
       "    .dataframe thead th {\n",
       "        text-align: right;\n",
       "    }\n",
       "</style>\n",
       "<table border=\"1\" class=\"dataframe\">\n",
       "  <thead>\n",
       "    <tr style=\"text-align: right;\">\n",
       "      <th></th>\n",
       "      <th>primary_type</th>\n",
       "      <th>description</th>\n",
       "      <th>arrest</th>\n",
       "      <th>year</th>\n",
       "    </tr>\n",
       "  </thead>\n",
       "  <tbody>\n",
       "    <tr>\n",
       "      <th>0</th>\n",
       "      <td>HOMICIDE</td>\n",
       "      <td>FIRST DEGREE MURDER</td>\n",
       "      <td>True</td>\n",
       "      <td>2005</td>\n",
       "    </tr>\n",
       "    <tr>\n",
       "      <th>1</th>\n",
       "      <td>CRIM SEXUAL ASSAULT</td>\n",
       "      <td>AGGRAVATED: OTHER</td>\n",
       "      <td>True</td>\n",
       "      <td>2001</td>\n",
       "    </tr>\n",
       "    <tr>\n",
       "      <th>2</th>\n",
       "      <td>ROBBERY</td>\n",
       "      <td>ARMED: OTHER FIREARM</td>\n",
       "      <td>False</td>\n",
       "      <td>2008</td>\n",
       "    </tr>\n",
       "    <tr>\n",
       "      <th>3</th>\n",
       "      <td>ROBBERY</td>\n",
       "      <td>VEHICULAR HIJACKING</td>\n",
       "      <td>False</td>\n",
       "      <td>2005</td>\n",
       "    </tr>\n",
       "    <tr>\n",
       "      <th>4</th>\n",
       "      <td>ROBBERY</td>\n",
       "      <td>AGGRAVATED VEHICULAR HIJACKING</td>\n",
       "      <td>False</td>\n",
       "      <td>2013</td>\n",
       "    </tr>\n",
       "  </tbody>\n",
       "</table>\n",
       "</div>"
      ],
      "text/plain": [
       "          primary_type                     description  arrest  year\n",
       "0             HOMICIDE             FIRST DEGREE MURDER    True  2005\n",
       "1  CRIM SEXUAL ASSAULT               AGGRAVATED: OTHER    True  2001\n",
       "2              ROBBERY            ARMED: OTHER FIREARM   False  2008\n",
       "3              ROBBERY             VEHICULAR HIJACKING   False  2005\n",
       "4              ROBBERY  AGGRAVATED VEHICULAR HIJACKING   False  2013"
      ]
     },
     "execution_count": 6,
     "metadata": {},
     "output_type": "execute_result"
    }
   ],
   "source": [
    "query = \"\"\"\n",
    "        SELECT primary_type, description, arrest, year\n",
    "        FROM `bigquery-public-data.chicago_crime.crime`\n",
    "        \"\"\"\n",
    "dry_run_config = bigquery.QueryJobConfig(dry_run=True)\n",
    "\n",
    "# API request - dry run query to estimate costs\n",
    "dry_run_query_job = client.query(query, job_config=dry_run_config)\n",
    "\n",
    "print(\"This query will process {} bytes.\".format(dry_run_query_job.total_bytes_processed))\n",
    "query_job = client.query(query)\n",
    "crimes = query_job.to_dataframe().head()\n",
    "crimes.head()"
   ]
  },
  {
   "cell_type": "code",
   "execution_count": 7,
   "id": "3aca2f29",
   "metadata": {
    "execution": {
     "iopub.execute_input": "2022-10-05T17:54:31.256150Z",
     "iopub.status.busy": "2022-10-05T17:54:31.255826Z",
     "iopub.status.idle": "2022-10-05T17:54:32.416511Z",
     "shell.execute_reply": "2022-10-05T17:54:32.415096Z"
    },
    "papermill": {
     "duration": 1.168186,
     "end_time": "2022-10-05T17:54:32.419043",
     "exception": false,
     "start_time": "2022-10-05T17:54:31.250857",
     "status": "completed"
    },
    "tags": []
   },
   "outputs": [
    {
     "data": {
      "image/png": "[encoded data removed]",
      "text/plain": [
       "<Figure size 510.5x360 with 6 Axes>"
      ]
     },
     "metadata": {
      "needs_background": "light"
     },
     "output_type": "display_data"
    }
   ],
   "source": [
    " g = sns.pairplot(crimes, hue=\"primary_type\", palette=\"husl\")\n"
   ]
  }
 ],
 "metadata": {
  "kernelspec": {
   "display_name": "Python 3",
   "language": "python",
   "name": "python3"
  },
  "language_info": {
   "codemirror_mode": {
    "name": "ipython",
    "version": 3
   },
   "file_extension": ".py",
   "mimetype": "text/x-python",
   "name": "python",
   "nbconvert_exporter": "python",
   "pygments_lexer": "ipython3",
   "version": "3.7.12"
  },
  "papermill": {
   "default_parameters": {},
   "duration": 285.989119,
   "end_time": "2022-10-05T17:54:33.246951",
   "environment_variables": {},
   "exception": null,
   "input_path": "__notebook__.ipynb",
   "output_path": "__notebook__.ipynb",
   "parameters": {},
   "start_time": "2022-10-05T17:49:47.257832",
   "version": "2.3.4"
  }
 },
 "nbformat": 4,
 "nbformat_minor": 5
}
