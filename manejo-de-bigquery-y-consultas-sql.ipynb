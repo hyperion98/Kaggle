{
 "cells": [
  {
   "cell_type": "markdown",
   "id": "704bc8fa",
   "metadata": {
    "papermill": {
     "duration": 0.010463,
     "end_time": "2022-10-06T18:41:35.940039",
     "exception": false,
     "start_time": "2022-10-06T18:41:35.929576",
     "status": "completed"
    },
    "tags": []
   },
   "source": [
    "Se importan las librerías para obtener información de BigQuery"
   ]
  },
  {
   "cell_type": "code",
   "execution_count": 1,
   "id": "1320165b",
   "metadata": {
    "execution": {
     "iopub.execute_input": "2022-10-06T18:41:35.954150Z",
     "iopub.status.busy": "2022-10-06T18:41:35.953554Z",
     "iopub.status.idle": "2022-10-06T18:41:37.573415Z",
     "shell.execute_reply": "2022-10-06T18:41:37.572370Z"
    },
    "papermill": {
     "duration": 1.629642,
     "end_time": "2022-10-06T18:41:37.576364",
     "exception": false,
     "start_time": "2022-10-06T18:41:35.946722",
     "status": "completed"
    },
    "tags": []
   },
   "outputs": [
    {
     "name": "stdout",
     "output_type": "stream",
     "text": [
      "Using Kaggle's public dataset BigQuery integration.\n"
     ]
    }
   ],
   "source": [
    "from google.cloud import bigquery\n",
    "import seaborn as sns\n",
    "import pandas\n",
    "\n",
    "# objeto Client\n",
    "client = bigquery.Client()\n",
    "\n",
    "# Referencia al Dataset chicago_crime\n",
    "dataset_ref = client.dataset(\"chicago_crime\", project=\"bigquery-public-data\")\n",
    "\n",
    "# API request - traer el dataset\n",
    "dataset = client.get_dataset(dataset_ref)"
   ]
  },
  {
   "cell_type": "markdown",
   "id": "02a76a15",
   "metadata": {
    "papermill": {
     "duration": 0.004427,
     "end_time": "2022-10-06T18:41:37.585740",
     "exception": false,
     "start_time": "2022-10-06T18:41:37.581313",
     "status": "completed"
    },
    "tags": []
   },
   "source": [
    "Listamos las tablas en el dataset"
   ]
  },
  {
   "cell_type": "code",
   "execution_count": 2,
   "id": "b9c94a59",
   "metadata": {
    "execution": {
     "iopub.execute_input": "2022-10-06T18:41:37.597279Z",
     "iopub.status.busy": "2022-10-06T18:41:37.596808Z",
     "iopub.status.idle": "2022-10-06T18:41:37.841776Z",
     "shell.execute_reply": "2022-10-06T18:41:37.839980Z"
    },
    "papermill": {
     "duration": 0.254048,
     "end_time": "2022-10-06T18:41:37.844443",
     "exception": false,
     "start_time": "2022-10-06T18:41:37.590395",
     "status": "completed"
    },
    "tags": []
   },
   "outputs": [
    {
     "name": "stdout",
     "output_type": "stream",
     "text": [
      "crime\n"
     ]
    }
   ],
   "source": [
    "tables = list(client.list_tables(dataset))\n",
    "for table in tables:  \n",
    "    print(table.table_id)"
   ]
  },
  {
   "cell_type": "markdown",
   "id": "4c1d9e50",
   "metadata": {
    "papermill": {
     "duration": 0.0054,
     "end_time": "2022-10-06T18:41:37.855496",
     "exception": false,
     "start_time": "2022-10-06T18:41:37.850096",
     "status": "completed"
    },
    "tags": []
   },
   "source": [
    "Listamos las columnas en la tabla Crime"
   ]
  },
  {
   "cell_type": "code",
   "execution_count": 3,
   "id": "64edc368",
   "metadata": {
    "execution": {
     "iopub.execute_input": "2022-10-06T18:41:37.868720Z",
     "iopub.status.busy": "2022-10-06T18:41:37.867762Z",
     "iopub.status.idle": "2022-10-06T18:41:38.180610Z",
     "shell.execute_reply": "2022-10-06T18:41:38.179073Z"
    },
    "papermill": {
     "duration": 0.323081,
     "end_time": "2022-10-06T18:41:38.183595",
     "exception": false,
     "start_time": "2022-10-06T18:41:37.860514",
     "status": "completed"
    },
    "tags": []
   },
   "outputs": [
    {
     "data": {
      "text/plain": [
       "[SchemaField('unique_key', 'INTEGER', 'REQUIRED', None, (), None),\n",
       " SchemaField('case_number', 'STRING', 'NULLABLE', None, (), None),\n",
       " SchemaField('date', 'TIMESTAMP', 'NULLABLE', None, (), None),\n",
       " SchemaField('block', 'STRING', 'NULLABLE', None, (), None),\n",
       " SchemaField('iucr', 'STRING', 'NULLABLE', None, (), None),\n",
       " SchemaField('primary_type', 'STRING', 'NULLABLE', None, (), None),\n",
       " SchemaField('description', 'STRING', 'NULLABLE', None, (), None),\n",
       " SchemaField('location_description', 'STRING', 'NULLABLE', None, (), None),\n",
       " SchemaField('arrest', 'BOOLEAN', 'NULLABLE', None, (), None),\n",
       " SchemaField('domestic', 'BOOLEAN', 'NULLABLE', None, (), None),\n",
       " SchemaField('beat', 'INTEGER', 'NULLABLE', None, (), None),\n",
       " SchemaField('district', 'INTEGER', 'NULLABLE', None, (), None),\n",
       " SchemaField('ward', 'INTEGER', 'NULLABLE', None, (), None),\n",
       " SchemaField('community_area', 'INTEGER', 'NULLABLE', None, (), None),\n",
       " SchemaField('fbi_code', 'STRING', 'NULLABLE', None, (), None),\n",
       " SchemaField('x_coordinate', 'FLOAT', 'NULLABLE', None, (), None),\n",
       " SchemaField('y_coordinate', 'FLOAT', 'NULLABLE', None, (), None),\n",
       " SchemaField('year', 'INTEGER', 'NULLABLE', None, (), None),\n",
       " SchemaField('updated_on', 'TIMESTAMP', 'NULLABLE', None, (), None),\n",
       " SchemaField('latitude', 'FLOAT', 'NULLABLE', None, (), None),\n",
       " SchemaField('longitude', 'FLOAT', 'NULLABLE', None, (), None),\n",
       " SchemaField('location', 'STRING', 'NULLABLE', None, (), None)]"
      ]
     },
     "execution_count": 3,
     "metadata": {},
     "output_type": "execute_result"
    }
   ],
   "source": [
    "# Construct a reference to the \"full\" table\n",
    "table_ref = dataset_ref.table(\"crime\")\n",
    "\n",
    "# API request - fetch the table\n",
    "table = client.get_table(table_ref)\n",
    "table.schema"
   ]
  },
  {
   "cell_type": "code",
   "execution_count": 4,
   "id": "23967310",
   "metadata": {
    "execution": {
     "iopub.execute_input": "2022-10-06T18:41:38.196309Z",
     "iopub.status.busy": "2022-10-06T18:41:38.195852Z",
     "iopub.status.idle": "2022-10-06T18:41:38.905401Z",
     "shell.execute_reply": "2022-10-06T18:41:38.902649Z"
    },
    "papermill": {
     "duration": 0.719656,
     "end_time": "2022-10-06T18:41:38.908713",
     "exception": false,
     "start_time": "2022-10-06T18:41:38.189057",
     "status": "completed"
    },
    "tags": []
   },
   "outputs": [
    {
     "name": "stderr",
     "output_type": "stream",
     "text": [
      "/opt/conda/lib/python3.7/site-packages/ipykernel_launcher.py:1: UserWarning: Cannot use bqstorage_client if max_results is set, reverting to fetching data with the tabledata.list endpoint.\n",
      "  \"\"\"Entry point for launching an IPython kernel.\n"
     ]
    },
    {
     "data": {
      "text/html": [
       "<div>\n",
       "<style scoped>\n",
       "    .dataframe tbody tr th:only-of-type {\n",
       "        vertical-align: middle;\n",
       "    }\n",
       "\n",
       "    .dataframe tbody tr th {\n",
       "        vertical-align: top;\n",
       "    }\n",
       "\n",
       "    .dataframe thead th {\n",
       "        text-align: right;\n",
       "    }\n",
       "</style>\n",
       "<table border=\"1\" class=\"dataframe\">\n",
       "  <thead>\n",
       "    <tr style=\"text-align: right;\">\n",
       "      <th></th>\n",
       "      <th>unique_key</th>\n",
       "      <th>case_number</th>\n",
       "      <th>date</th>\n",
       "      <th>block</th>\n",
       "      <th>iucr</th>\n",
       "      <th>primary_type</th>\n",
       "      <th>description</th>\n",
       "      <th>location_description</th>\n",
       "      <th>arrest</th>\n",
       "      <th>domestic</th>\n",
       "      <th>...</th>\n",
       "      <th>ward</th>\n",
       "      <th>community_area</th>\n",
       "      <th>fbi_code</th>\n",
       "      <th>x_coordinate</th>\n",
       "      <th>y_coordinate</th>\n",
       "      <th>year</th>\n",
       "      <th>updated_on</th>\n",
       "      <th>latitude</th>\n",
       "      <th>longitude</th>\n",
       "      <th>location</th>\n",
       "    </tr>\n",
       "  </thead>\n",
       "  <tbody>\n",
       "    <tr>\n",
       "      <th>0</th>\n",
       "      <td>3205</td>\n",
       "      <td>HL435664</td>\n",
       "      <td>2005-06-21 09:28:00+00:00</td>\n",
       "      <td>103XX S INDIANA AVE</td>\n",
       "      <td>0110</td>\n",
       "      <td>HOMICIDE</td>\n",
       "      <td>FIRST DEGREE MURDER</td>\n",
       "      <td>STREET</td>\n",
       "      <td>True</td>\n",
       "      <td>False</td>\n",
       "      <td>...</td>\n",
       "      <td>9</td>\n",
       "      <td>49</td>\n",
       "      <td>01A</td>\n",
       "      <td>1179414.0</td>\n",
       "      <td>1836239.0</td>\n",
       "      <td>2005</td>\n",
       "      <td>2022-09-18 04:45:51+00:00</td>\n",
       "      <td>41.705921</td>\n",
       "      <td>-87.618608</td>\n",
       "      <td>(41.705920727, -87.618607847)</td>\n",
       "    </tr>\n",
       "    <tr>\n",
       "      <th>1</th>\n",
       "      <td>24322</td>\n",
       "      <td>JB536039</td>\n",
       "      <td>2018-12-01 02:39:00+00:00</td>\n",
       "      <td>000XX W 103RD ST</td>\n",
       "      <td>0110</td>\n",
       "      <td>HOMICIDE</td>\n",
       "      <td>FIRST DEGREE MURDER</td>\n",
       "      <td>STREET</td>\n",
       "      <td>True</td>\n",
       "      <td>False</td>\n",
       "      <td>...</td>\n",
       "      <td>34</td>\n",
       "      <td>49</td>\n",
       "      <td>01A</td>\n",
       "      <td>1177846.0</td>\n",
       "      <td>1836675.0</td>\n",
       "      <td>2018</td>\n",
       "      <td>2022-08-31 04:51:30+00:00</td>\n",
       "      <td>41.707153</td>\n",
       "      <td>-87.624337</td>\n",
       "      <td>(41.70715274, -87.624336573)</td>\n",
       "    </tr>\n",
       "    <tr>\n",
       "      <th>2</th>\n",
       "      <td>20708</td>\n",
       "      <td>HV572023</td>\n",
       "      <td>2012-11-21 08:30:00+00:00</td>\n",
       "      <td>103XX S FOREST AVE</td>\n",
       "      <td>0110</td>\n",
       "      <td>HOMICIDE</td>\n",
       "      <td>FIRST DEGREE MURDER</td>\n",
       "      <td>STREET</td>\n",
       "      <td>True</td>\n",
       "      <td>True</td>\n",
       "      <td>...</td>\n",
       "      <td>9</td>\n",
       "      <td>49</td>\n",
       "      <td>01A</td>\n",
       "      <td>1180074.0</td>\n",
       "      <td>1836444.0</td>\n",
       "      <td>2012</td>\n",
       "      <td>2022-09-18 04:45:51+00:00</td>\n",
       "      <td>41.706468</td>\n",
       "      <td>-87.616185</td>\n",
       "      <td>(41.706468217, -87.616184739)</td>\n",
       "    </tr>\n",
       "    <tr>\n",
       "      <th>3</th>\n",
       "      <td>2446</td>\n",
       "      <td>HJ698541</td>\n",
       "      <td>2003-10-17 01:36:00+00:00</td>\n",
       "      <td>104XX S INDIANA AVE</td>\n",
       "      <td>0110</td>\n",
       "      <td>HOMICIDE</td>\n",
       "      <td>FIRST DEGREE MURDER</td>\n",
       "      <td>AUTO</td>\n",
       "      <td>False</td>\n",
       "      <td>False</td>\n",
       "      <td>...</td>\n",
       "      <td>9</td>\n",
       "      <td>49</td>\n",
       "      <td>01A</td>\n",
       "      <td>1179434.0</td>\n",
       "      <td>1835549.0</td>\n",
       "      <td>2003</td>\n",
       "      <td>2022-08-31 04:51:30+00:00</td>\n",
       "      <td>41.704027</td>\n",
       "      <td>-87.618556</td>\n",
       "      <td>(41.704026818, -87.618555581)</td>\n",
       "    </tr>\n",
       "    <tr>\n",
       "      <th>4</th>\n",
       "      <td>25831</td>\n",
       "      <td>JE181828</td>\n",
       "      <td>2021-03-28 12:11:00+00:00</td>\n",
       "      <td>007XX E 103RD ST</td>\n",
       "      <td>0110</td>\n",
       "      <td>HOMICIDE</td>\n",
       "      <td>FIRST DEGREE MURDER</td>\n",
       "      <td>GAS STATION</td>\n",
       "      <td>True</td>\n",
       "      <td>False</td>\n",
       "      <td>...</td>\n",
       "      <td>9</td>\n",
       "      <td>50</td>\n",
       "      <td>01A</td>\n",
       "      <td>1182951.0</td>\n",
       "      <td>1836828.0</td>\n",
       "      <td>2021</td>\n",
       "      <td>2022-08-31 04:51:30+00:00</td>\n",
       "      <td>41.707456</td>\n",
       "      <td>-87.605637</td>\n",
       "      <td>(41.707455731, -87.605637491)</td>\n",
       "    </tr>\n",
       "  </tbody>\n",
       "</table>\n",
       "<p>5 rows × 22 columns</p>\n",
       "</div>"
      ],
      "text/plain": [
       "   unique_key case_number                      date                block  \\\n",
       "0        3205    HL435664 2005-06-21 09:28:00+00:00  103XX S INDIANA AVE   \n",
       "1       24322    JB536039 2018-12-01 02:39:00+00:00     000XX W 103RD ST   \n",
       "2       20708    HV572023 2012-11-21 08:30:00+00:00   103XX S FOREST AVE   \n",
       "3        2446    HJ698541 2003-10-17 01:36:00+00:00  104XX S INDIANA AVE   \n",
       "4       25831    JE181828 2021-03-28 12:11:00+00:00     007XX E 103RD ST   \n",
       "\n",
       "   iucr primary_type          description location_description  arrest  \\\n",
       "0  0110     HOMICIDE  FIRST DEGREE MURDER               STREET    True   \n",
       "1  0110     HOMICIDE  FIRST DEGREE MURDER               STREET    True   \n",
       "2  0110     HOMICIDE  FIRST DEGREE MURDER               STREET    True   \n",
       "3  0110     HOMICIDE  FIRST DEGREE MURDER                 AUTO   False   \n",
       "4  0110     HOMICIDE  FIRST DEGREE MURDER          GAS STATION    True   \n",
       "\n",
       "   domestic  ...  ward  community_area  fbi_code  x_coordinate y_coordinate  \\\n",
       "0     False  ...     9              49       01A     1179414.0    1836239.0   \n",
       "1     False  ...    34              49       01A     1177846.0    1836675.0   \n",
       "2      True  ...     9              49       01A     1180074.0    1836444.0   \n",
       "3     False  ...     9              49       01A     1179434.0    1835549.0   \n",
       "4     False  ...     9              50       01A     1182951.0    1836828.0   \n",
       "\n",
       "   year                updated_on   latitude  longitude  \\\n",
       "0  2005 2022-09-18 04:45:51+00:00  41.705921 -87.618608   \n",
       "1  2018 2022-08-31 04:51:30+00:00  41.707153 -87.624337   \n",
       "2  2012 2022-09-18 04:45:51+00:00  41.706468 -87.616185   \n",
       "3  2003 2022-08-31 04:51:30+00:00  41.704027 -87.618556   \n",
       "4  2021 2022-08-31 04:51:30+00:00  41.707456 -87.605637   \n",
       "\n",
       "                        location  \n",
       "0  (41.705920727, -87.618607847)  \n",
       "1   (41.70715274, -87.624336573)  \n",
       "2  (41.706468217, -87.616184739)  \n",
       "3  (41.704026818, -87.618555581)  \n",
       "4  (41.707455731, -87.605637491)  \n",
       "\n",
       "[5 rows x 22 columns]"
      ]
     },
     "execution_count": 4,
     "metadata": {},
     "output_type": "execute_result"
    }
   ],
   "source": [
    "client.list_rows(table, max_results=5).to_dataframe()"
   ]
  },
  {
   "cell_type": "markdown",
   "id": "d4eb81ca",
   "metadata": {
    "papermill": {
     "duration": 0.006035,
     "end_time": "2022-10-06T18:41:38.921467",
     "exception": false,
     "start_time": "2022-10-06T18:41:38.915432",
     "status": "completed"
    },
    "tags": []
   },
   "source": [
    "Podemos acceder a distintas columnas por número de col"
   ]
  },
  {
   "cell_type": "code",
   "execution_count": 5,
   "id": "f6b3d18a",
   "metadata": {
    "execution": {
     "iopub.execute_input": "2022-10-06T18:41:38.934649Z",
     "iopub.status.busy": "2022-10-06T18:41:38.933892Z",
     "iopub.status.idle": "2022-10-06T18:41:39.290461Z",
     "shell.execute_reply": "2022-10-06T18:41:39.289105Z"
    },
    "papermill": {
     "duration": 0.366364,
     "end_time": "2022-10-06T18:41:39.293354",
     "exception": false,
     "start_time": "2022-10-06T18:41:38.926990",
     "status": "completed"
    },
    "tags": []
   },
   "outputs": [
    {
     "name": "stderr",
     "output_type": "stream",
     "text": [
      "/opt/conda/lib/python3.7/site-packages/ipykernel_launcher.py:1: UserWarning: Cannot use bqstorage_client if max_results is set, reverting to fetching data with the tabledata.list endpoint.\n",
      "  \"\"\"Entry point for launching an IPython kernel.\n"
     ]
    },
    {
     "data": {
      "text/html": [
       "<div>\n",
       "<style scoped>\n",
       "    .dataframe tbody tr th:only-of-type {\n",
       "        vertical-align: middle;\n",
       "    }\n",
       "\n",
       "    .dataframe tbody tr th {\n",
       "        vertical-align: top;\n",
       "    }\n",
       "\n",
       "    .dataframe thead th {\n",
       "        text-align: right;\n",
       "    }\n",
       "</style>\n",
       "<table border=\"1\" class=\"dataframe\">\n",
       "  <thead>\n",
       "    <tr style=\"text-align: right;\">\n",
       "      <th></th>\n",
       "      <th>latitude</th>\n",
       "      <th>longitude</th>\n",
       "      <th>location</th>\n",
       "    </tr>\n",
       "  </thead>\n",
       "  <tbody>\n",
       "    <tr>\n",
       "      <th>0</th>\n",
       "      <td>41.705921</td>\n",
       "      <td>-87.618608</td>\n",
       "      <td>(41.705920727, -87.618607847)</td>\n",
       "    </tr>\n",
       "    <tr>\n",
       "      <th>1</th>\n",
       "      <td>41.707153</td>\n",
       "      <td>-87.624337</td>\n",
       "      <td>(41.70715274, -87.624336573)</td>\n",
       "    </tr>\n",
       "    <tr>\n",
       "      <th>2</th>\n",
       "      <td>41.706468</td>\n",
       "      <td>-87.616185</td>\n",
       "      <td>(41.706468217, -87.616184739)</td>\n",
       "    </tr>\n",
       "    <tr>\n",
       "      <th>3</th>\n",
       "      <td>41.704027</td>\n",
       "      <td>-87.618556</td>\n",
       "      <td>(41.704026818, -87.618555581)</td>\n",
       "    </tr>\n",
       "    <tr>\n",
       "      <th>4</th>\n",
       "      <td>41.707456</td>\n",
       "      <td>-87.605637</td>\n",
       "      <td>(41.707455731, -87.605637491)</td>\n",
       "    </tr>\n",
       "  </tbody>\n",
       "</table>\n",
       "</div>"
      ],
      "text/plain": [
       "    latitude  longitude                       location\n",
       "0  41.705921 -87.618608  (41.705920727, -87.618607847)\n",
       "1  41.707153 -87.624337   (41.70715274, -87.624336573)\n",
       "2  41.706468 -87.616185  (41.706468217, -87.616184739)\n",
       "3  41.704027 -87.618556  (41.704026818, -87.618555581)\n",
       "4  41.707456 -87.605637  (41.707455731, -87.605637491)"
      ]
     },
     "execution_count": 5,
     "metadata": {},
     "output_type": "execute_result"
    }
   ],
   "source": [
    "client.list_rows(table, selected_fields=table.schema[19:22], max_results=5).to_dataframe()"
   ]
  },
  {
   "cell_type": "markdown",
   "id": "d5f716eb",
   "metadata": {
    "papermill": {
     "duration": 0.005649,
     "end_time": "2022-10-06T18:41:39.304762",
     "exception": false,
     "start_time": "2022-10-06T18:41:39.299113",
     "status": "completed"
    },
    "tags": []
   },
   "source": [
    "Creamos un query en SQL donde nos traemos los campos tipo primario, descripción, arresto y año. La transformamos en un dataframe, no sin antes realizar la validación de cuantos bytes se procesarán, esto nos ayuda a mantener un control sobre el límite que nos impone la plataforma Kaggle al momento de hacer querys."
   ]
  },
  {
   "cell_type": "code",
   "execution_count": 6,
   "id": "767d0779",
   "metadata": {
    "execution": {
     "iopub.execute_input": "2022-10-06T18:41:39.318988Z",
     "iopub.status.busy": "2022-10-06T18:41:39.318374Z",
     "iopub.status.idle": "2022-10-06T18:46:09.433548Z",
     "shell.execute_reply": "2022-10-06T18:46:09.432316Z"
    },
    "papermill": {
     "duration": 270.131484,
     "end_time": "2022-10-06T18:46:09.442641",
     "exception": false,
     "start_time": "2022-10-06T18:41:39.311157",
     "status": "completed"
    },
    "tags": []
   },
   "outputs": [
    {
     "name": "stdout",
     "output_type": "stream",
     "text": [
      "This query will process 299510371 bytes.\n"
     ]
    },
    {
     "name": "stderr",
     "output_type": "stream",
     "text": [
      "/opt/conda/lib/python3.7/site-packages/google/cloud/bigquery/client.py:440: UserWarning: Cannot create BigQuery Storage client, the dependency google-cloud-bigquery-storage is not installed.\n",
      "  \"Cannot create BigQuery Storage client, the dependency \"\n"
     ]
    },
    {
     "data": {
      "text/html": [
       "<div>\n",
       "<style scoped>\n",
       "    .dataframe tbody tr th:only-of-type {\n",
       "        vertical-align: middle;\n",
       "    }\n",
       "\n",
       "    .dataframe tbody tr th {\n",
       "        vertical-align: top;\n",
       "    }\n",
       "\n",
       "    .dataframe thead th {\n",
       "        text-align: right;\n",
       "    }\n",
       "</style>\n",
       "<table border=\"1\" class=\"dataframe\">\n",
       "  <thead>\n",
       "    <tr style=\"text-align: right;\">\n",
       "      <th></th>\n",
       "      <th>primary_type</th>\n",
       "      <th>description</th>\n",
       "      <th>arrest</th>\n",
       "      <th>year</th>\n",
       "    </tr>\n",
       "  </thead>\n",
       "  <tbody>\n",
       "    <tr>\n",
       "      <th>0</th>\n",
       "      <td>HOMICIDE</td>\n",
       "      <td>FIRST DEGREE MURDER</td>\n",
       "      <td>True</td>\n",
       "      <td>2012</td>\n",
       "    </tr>\n",
       "    <tr>\n",
       "      <th>1</th>\n",
       "      <td>CRIM SEXUAL ASSAULT</td>\n",
       "      <td>NON-AGGRAVATED</td>\n",
       "      <td>False</td>\n",
       "      <td>2019</td>\n",
       "    </tr>\n",
       "    <tr>\n",
       "      <th>2</th>\n",
       "      <td>CRIM SEXUAL ASSAULT</td>\n",
       "      <td>NON-AGGRAVATED</td>\n",
       "      <td>False</td>\n",
       "      <td>2012</td>\n",
       "    </tr>\n",
       "    <tr>\n",
       "      <th>3</th>\n",
       "      <td>ROBBERY</td>\n",
       "      <td>ARMED:KNIFE/CUTTING INSTRUMENT</td>\n",
       "      <td>False</td>\n",
       "      <td>2001</td>\n",
       "    </tr>\n",
       "    <tr>\n",
       "      <th>4</th>\n",
       "      <td>ROBBERY</td>\n",
       "      <td>ARMED: OTHER DANGEROUS WEAPON</td>\n",
       "      <td>False</td>\n",
       "      <td>2002</td>\n",
       "    </tr>\n",
       "  </tbody>\n",
       "</table>\n",
       "</div>"
      ],
      "text/plain": [
       "          primary_type                     description  arrest  year\n",
       "0             HOMICIDE             FIRST DEGREE MURDER    True  2012\n",
       "1  CRIM SEXUAL ASSAULT                  NON-AGGRAVATED   False  2019\n",
       "2  CRIM SEXUAL ASSAULT                  NON-AGGRAVATED   False  2012\n",
       "3              ROBBERY  ARMED:KNIFE/CUTTING INSTRUMENT   False  2001\n",
       "4              ROBBERY   ARMED: OTHER DANGEROUS WEAPON   False  2002"
      ]
     },
     "execution_count": 6,
     "metadata": {},
     "output_type": "execute_result"
    }
   ],
   "source": [
    "query = \"\"\"\n",
    "        SELECT primary_type, description, arrest, year\n",
    "        FROM `bigquery-public-data.chicago_crime.crime`\n",
    "        \"\"\"\n",
    "dry_run_config = bigquery.QueryJobConfig(dry_run=True)\n",
    "\n",
    "# API request - dry run query to estimate costs\n",
    "dry_run_query_job = client.query(query, job_config=dry_run_config)\n",
    "\n",
    "print(\"This query will process {} bytes.\".format(dry_run_query_job.total_bytes_processed))\n",
    "query_job = client.query(query)\n",
    "crimes = query_job.to_dataframe().head()\n",
    "crimes.head()"
   ]
  },
  {
   "cell_type": "markdown",
   "id": "03161647",
   "metadata": {
    "papermill": {
     "duration": 0.006535,
     "end_time": "2022-10-06T18:46:09.455268",
     "exception": false,
     "start_time": "2022-10-06T18:46:09.448733",
     "status": "completed"
    },
    "tags": []
   },
   "source": [
    "Con este dataframe podemos visualizar la información ya traida desde el servidor y realizar un procesamiento más profundo a los datos."
   ]
  },
  {
   "cell_type": "code",
   "execution_count": 7,
   "id": "4f23f7b8",
   "metadata": {
    "execution": {
     "iopub.execute_input": "2022-10-06T18:46:09.470414Z",
     "iopub.status.busy": "2022-10-06T18:46:09.469299Z",
     "iopub.status.idle": "2022-10-06T18:46:10.826738Z",
     "shell.execute_reply": "2022-10-06T18:46:10.825498Z"
    },
    "papermill": {
     "duration": 1.368314,
     "end_time": "2022-10-06T18:46:10.829735",
     "exception": false,
     "start_time": "2022-10-06T18:46:09.461421",
     "status": "completed"
    },
    "tags": []
   },
   "outputs": [
    {
     "data": {
      "image/png": "[encoded data removed]",
      "text/plain": [
       "<Figure size 510.5x360 with 6 Axes>"
      ]
     },
     "metadata": {
      "needs_background": "light"
     },
     "output_type": "display_data"
    }
   ],
   "source": [
    " g = sns.pairplot(crimes, hue=\"primary_type\", palette=\"husl\")\n"
   ]
  },
  {
   "cell_type": "markdown",
   "id": "60e21353",
   "metadata": {
    "papermill": {
     "duration": 0.006692,
     "end_time": "2022-10-06T18:46:10.843051",
     "exception": false,
     "start_time": "2022-10-06T18:46:10.836359",
     "status": "completed"
    },
    "tags": []
   },
   "source": [
    "Hagamos un modelo predictivo con esta información obtenida. Para eso vamos a estimar cuantos crimenes se podrían cometer durante el año 2023"
   ]
  },
  {
   "cell_type": "code",
   "execution_count": 8,
   "id": "cff097a3",
   "metadata": {
    "execution": {
     "iopub.execute_input": "2022-10-06T18:46:10.857942Z",
     "iopub.status.busy": "2022-10-06T18:46:10.857526Z",
     "iopub.status.idle": "2022-10-06T18:46:10.879422Z",
     "shell.execute_reply": "2022-10-06T18:46:10.878145Z"
    },
    "papermill": {
     "duration": 0.032385,
     "end_time": "2022-10-06T18:46:10.882008",
     "exception": false,
     "start_time": "2022-10-06T18:46:10.849623",
     "status": "completed"
    },
    "tags": []
   },
   "outputs": [
    {
     "data": {
      "text/html": [
       "<div>\n",
       "<style scoped>\n",
       "    .dataframe tbody tr th:only-of-type {\n",
       "        vertical-align: middle;\n",
       "    }\n",
       "\n",
       "    .dataframe tbody tr th {\n",
       "        vertical-align: top;\n",
       "    }\n",
       "\n",
       "    .dataframe thead th {\n",
       "        text-align: right;\n",
       "    }\n",
       "</style>\n",
       "<table border=\"1\" class=\"dataframe\">\n",
       "  <thead>\n",
       "    <tr style=\"text-align: right;\">\n",
       "      <th></th>\n",
       "      <th>arrest</th>\n",
       "      <th>year</th>\n",
       "      <th>primary_type_CRIM SEXUAL ASSAULT</th>\n",
       "      <th>primary_type_HOMICIDE</th>\n",
       "      <th>primary_type_ROBBERY</th>\n",
       "      <th>description_ARMED: OTHER DANGEROUS WEAPON</th>\n",
       "      <th>description_ARMED:KNIFE/CUTTING INSTRUMENT</th>\n",
       "      <th>description_FIRST DEGREE MURDER</th>\n",
       "      <th>description_NON-AGGRAVATED</th>\n",
       "    </tr>\n",
       "  </thead>\n",
       "  <tbody>\n",
       "    <tr>\n",
       "      <th>0</th>\n",
       "      <td>True</td>\n",
       "      <td>2012</td>\n",
       "      <td>0</td>\n",
       "      <td>1</td>\n",
       "      <td>0</td>\n",
       "      <td>0</td>\n",
       "      <td>0</td>\n",
       "      <td>1</td>\n",
       "      <td>0</td>\n",
       "    </tr>\n",
       "    <tr>\n",
       "      <th>1</th>\n",
       "      <td>False</td>\n",
       "      <td>2019</td>\n",
       "      <td>1</td>\n",
       "      <td>0</td>\n",
       "      <td>0</td>\n",
       "      <td>0</td>\n",
       "      <td>0</td>\n",
       "      <td>0</td>\n",
       "      <td>1</td>\n",
       "    </tr>\n",
       "    <tr>\n",
       "      <th>2</th>\n",
       "      <td>False</td>\n",
       "      <td>2012</td>\n",
       "      <td>1</td>\n",
       "      <td>0</td>\n",
       "      <td>0</td>\n",
       "      <td>0</td>\n",
       "      <td>0</td>\n",
       "      <td>0</td>\n",
       "      <td>1</td>\n",
       "    </tr>\n",
       "    <tr>\n",
       "      <th>3</th>\n",
       "      <td>False</td>\n",
       "      <td>2001</td>\n",
       "      <td>0</td>\n",
       "      <td>0</td>\n",
       "      <td>1</td>\n",
       "      <td>0</td>\n",
       "      <td>1</td>\n",
       "      <td>0</td>\n",
       "      <td>0</td>\n",
       "    </tr>\n",
       "    <tr>\n",
       "      <th>4</th>\n",
       "      <td>False</td>\n",
       "      <td>2002</td>\n",
       "      <td>0</td>\n",
       "      <td>0</td>\n",
       "      <td>1</td>\n",
       "      <td>1</td>\n",
       "      <td>0</td>\n",
       "      <td>0</td>\n",
       "      <td>0</td>\n",
       "    </tr>\n",
       "  </tbody>\n",
       "</table>\n",
       "</div>"
      ],
      "text/plain": [
       "   arrest  year  primary_type_CRIM SEXUAL ASSAULT  primary_type_HOMICIDE  \\\n",
       "0    True  2012                                 0                      1   \n",
       "1   False  2019                                 1                      0   \n",
       "2   False  2012                                 1                      0   \n",
       "3   False  2001                                 0                      0   \n",
       "4   False  2002                                 0                      0   \n",
       "\n",
       "   primary_type_ROBBERY  description_ARMED: OTHER DANGEROUS WEAPON  \\\n",
       "0                     0                                          0   \n",
       "1                     0                                          0   \n",
       "2                     0                                          0   \n",
       "3                     1                                          0   \n",
       "4                     1                                          1   \n",
       "\n",
       "   description_ARMED:KNIFE/CUTTING INSTRUMENT  \\\n",
       "0                                           0   \n",
       "1                                           0   \n",
       "2                                           0   \n",
       "3                                           1   \n",
       "4                                           0   \n",
       "\n",
       "   description_FIRST DEGREE MURDER  description_NON-AGGRAVATED  \n",
       "0                                1                           0  \n",
       "1                                0                           1  \n",
       "2                                0                           1  \n",
       "3                                0                           0  \n",
       "4                                0                           0  "
      ]
     },
     "execution_count": 8,
     "metadata": {},
     "output_type": "execute_result"
    }
   ],
   "source": [
    "crimes = pandas.get_dummies(crimes)\n",
    "\n",
    "y = crimes.arrest\n",
    "\n",
    "crimes_features = [\"primary_type_CRIM SEXUAL ASSAULT\",\"primary_type_HOMICIDE\",\"description_ARMED: OTHER DANGEROUS WEAPON\", \"description_ARMED:KNIFE/CUTTING INSTRUMENT\",\"description_FIRST DEGREE MURDER\",\"description_NON-AGGRAVATED\"]\n",
    "x = crimes[crimes_features]\n",
    "#x.describe()\n",
    "crimes.head()"
   ]
  },
  {
   "cell_type": "code",
   "execution_count": 9,
   "id": "e92f2b53",
   "metadata": {
    "execution": {
     "iopub.execute_input": "2022-10-06T18:46:10.903916Z",
     "iopub.status.busy": "2022-10-06T18:46:10.902585Z",
     "iopub.status.idle": "2022-10-06T18:46:11.360458Z",
     "shell.execute_reply": "2022-10-06T18:46:11.359075Z"
    },
    "papermill": {
     "duration": 0.471949,
     "end_time": "2022-10-06T18:46:11.363844",
     "exception": false,
     "start_time": "2022-10-06T18:46:10.891895",
     "status": "completed"
    },
    "tags": []
   },
   "outputs": [
    {
     "data": {
      "text/plain": [
       "DecisionTreeRegressor(random_state=1)"
      ]
     },
     "execution_count": 9,
     "metadata": {},
     "output_type": "execute_result"
    }
   ],
   "source": [
    "from sklearn.tree import DecisionTreeRegressor\n",
    "crimes_model = DecisionTreeRegressor(random_state=1)\n",
    "crimes_model.fit(x, y)"
   ]
  },
  {
   "cell_type": "code",
   "execution_count": 10,
   "id": "8a5e5eeb",
   "metadata": {
    "execution": {
     "iopub.execute_input": "2022-10-06T18:46:11.379418Z",
     "iopub.status.busy": "2022-10-06T18:46:11.378966Z",
     "iopub.status.idle": "2022-10-06T18:46:11.394928Z",
     "shell.execute_reply": "2022-10-06T18:46:11.393446Z"
    },
    "papermill": {
     "duration": 0.0269,
     "end_time": "2022-10-06T18:46:11.397702",
     "exception": false,
     "start_time": "2022-10-06T18:46:11.370802",
     "status": "completed"
    },
    "tags": []
   },
   "outputs": [
    {
     "name": "stdout",
     "output_type": "stream",
     "text": [
      "Predicciones para los siguientes 5 casos:\n",
      "Las predicciones son\n",
      "[1. 0. 0. 0. 0.]\n"
     ]
    },
    {
     "data": {
      "text/html": [
       "<div>\n",
       "<style scoped>\n",
       "    .dataframe tbody tr th:only-of-type {\n",
       "        vertical-align: middle;\n",
       "    }\n",
       "\n",
       "    .dataframe tbody tr th {\n",
       "        vertical-align: top;\n",
       "    }\n",
       "\n",
       "    .dataframe thead th {\n",
       "        text-align: right;\n",
       "    }\n",
       "</style>\n",
       "<table border=\"1\" class=\"dataframe\">\n",
       "  <thead>\n",
       "    <tr style=\"text-align: right;\">\n",
       "      <th></th>\n",
       "      <th>primary_type_CRIM SEXUAL ASSAULT</th>\n",
       "      <th>primary_type_HOMICIDE</th>\n",
       "      <th>description_ARMED: OTHER DANGEROUS WEAPON</th>\n",
       "      <th>description_ARMED:KNIFE/CUTTING INSTRUMENT</th>\n",
       "      <th>description_FIRST DEGREE MURDER</th>\n",
       "      <th>description_NON-AGGRAVATED</th>\n",
       "    </tr>\n",
       "  </thead>\n",
       "  <tbody>\n",
       "    <tr>\n",
       "      <th>0</th>\n",
       "      <td>0</td>\n",
       "      <td>1</td>\n",
       "      <td>0</td>\n",
       "      <td>0</td>\n",
       "      <td>1</td>\n",
       "      <td>0</td>\n",
       "    </tr>\n",
       "    <tr>\n",
       "      <th>1</th>\n",
       "      <td>1</td>\n",
       "      <td>0</td>\n",
       "      <td>0</td>\n",
       "      <td>0</td>\n",
       "      <td>0</td>\n",
       "      <td>1</td>\n",
       "    </tr>\n",
       "    <tr>\n",
       "      <th>2</th>\n",
       "      <td>1</td>\n",
       "      <td>0</td>\n",
       "      <td>0</td>\n",
       "      <td>0</td>\n",
       "      <td>0</td>\n",
       "      <td>1</td>\n",
       "    </tr>\n",
       "    <tr>\n",
       "      <th>3</th>\n",
       "      <td>0</td>\n",
       "      <td>0</td>\n",
       "      <td>0</td>\n",
       "      <td>1</td>\n",
       "      <td>0</td>\n",
       "      <td>0</td>\n",
       "    </tr>\n",
       "    <tr>\n",
       "      <th>4</th>\n",
       "      <td>0</td>\n",
       "      <td>0</td>\n",
       "      <td>1</td>\n",
       "      <td>0</td>\n",
       "      <td>0</td>\n",
       "      <td>0</td>\n",
       "    </tr>\n",
       "  </tbody>\n",
       "</table>\n",
       "</div>"
      ],
      "text/plain": [
       "   primary_type_CRIM SEXUAL ASSAULT  primary_type_HOMICIDE  \\\n",
       "0                                 0                      1   \n",
       "1                                 1                      0   \n",
       "2                                 1                      0   \n",
       "3                                 0                      0   \n",
       "4                                 0                      0   \n",
       "\n",
       "   description_ARMED: OTHER DANGEROUS WEAPON  \\\n",
       "0                                          0   \n",
       "1                                          0   \n",
       "2                                          0   \n",
       "3                                          0   \n",
       "4                                          1   \n",
       "\n",
       "   description_ARMED:KNIFE/CUTTING INSTRUMENT  \\\n",
       "0                                           0   \n",
       "1                                           0   \n",
       "2                                           0   \n",
       "3                                           1   \n",
       "4                                           0   \n",
       "\n",
       "   description_FIRST DEGREE MURDER  description_NON-AGGRAVATED  \n",
       "0                                1                           0  \n",
       "1                                0                           1  \n",
       "2                                0                           1  \n",
       "3                                0                           0  \n",
       "4                                0                           0  "
      ]
     },
     "execution_count": 10,
     "metadata": {},
     "output_type": "execute_result"
    }
   ],
   "source": [
    "print(\"Predicciones para los siguientes 5 casos:\")\n",
    "\n",
    "print(\"Las predicciones son\")\n",
    "print(crimes_model.predict(x.head()))\n",
    "x.head()"
   ]
  },
  {
   "cell_type": "markdown",
   "id": "7053ccc8",
   "metadata": {
    "papermill": {
     "duration": 0.006679,
     "end_time": "2022-10-06T18:46:11.411717",
     "exception": false,
     "start_time": "2022-10-06T18:46:11.405038",
     "status": "completed"
    },
    "tags": []
   },
   "source": [
    "De los siguientes 5 casos, unicamente el primero será arrestado por homicidio en primer grado\n",
    "El resto de los casos constan de 2 abusos sexuales no agravados\n",
    "un ataque con arma blanca y un ataque con otro tipo de arma peligrosa que no resultan en arresto"
   ]
  },
  {
   "cell_type": "markdown",
   "id": "e8a5bfef",
   "metadata": {
    "papermill": {
     "duration": 0.006828,
     "end_time": "2022-10-06T18:46:11.425488",
     "exception": false,
     "start_time": "2022-10-06T18:46:11.418660",
     "status": "completed"
    },
    "tags": []
   },
   "source": [
    "Como no se tienen datos de nuevos casos para saber si terminan en arresto o no, usamos algunos datos del dataset que ya tenemos a modo demostrativo."
   ]
  }
 ],
 "metadata": {
  "kernelspec": {
   "display_name": "Python 3",
   "language": "python",
   "name": "python3"
  },
  "language_info": {
   "codemirror_mode": {
    "name": "ipython",
    "version": 3
   },
   "file_extension": ".py",
   "mimetype": "text/x-python",
   "name": "python",
   "nbconvert_exporter": "python",
   "pygments_lexer": "ipython3",
   "version": "3.7.12"
  },
  "papermill": {
   "default_parameters": {},
   "duration": 286.8701,
   "end_time": "2022-10-06T18:46:12.356349",
   "environment_variables": {},
   "exception": null,
   "input_path": "__notebook__.ipynb",
   "output_path": "__notebook__.ipynb",
   "parameters": {},
   "start_time": "2022-10-06T18:41:25.486249",
   "version": "2.3.4"
  }
 },
 "nbformat": 4,
 "nbformat_minor": 5
}
